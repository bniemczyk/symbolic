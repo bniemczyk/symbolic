{
 "metadata": {
  "name": "Assembly Symolic Execution Tutorial"
 },
 "nbformat": 3,
 "nbformat_minor": 0,
 "worksheets": [
  {
   "cells": [
    {
     "cell_type": "markdown",
     "metadata": {},
     "source": [
      "Using SyMath for symbolic execution of assembly languages\n",
      "=========================================================\n",
      "\n",
      "At it's core, symath allows a programming paradigm called _symbolic programming_.\n",
      "Even though symbolic programming is often associated with mathematical programming, this\n",
      "is not always the case, and this tutorial will walk you through using symath to create\n",
      "a symbolic execution of a small subset of the x86 assembly language."
     ]
    },
    {
     "cell_type": "markdown",
     "metadata": {},
     "source": [
      "Initialization of SyMath\n",
      "------------------------"
     ]
    },
    {
     "cell_type": "code",
     "collapsed": false,
     "input": [
      "from symath import symbols, wilds, WildResults"
     ],
     "language": "python",
     "metadata": {},
     "outputs": [],
     "prompt_number": 1
    },
    {
     "cell_type": "markdown",
     "metadata": {},
     "source": [
      "Registers and Expressions involving them\n",
      "----------------------------------------"
     ]
    },
    {
     "cell_type": "markdown",
     "metadata": {},
     "source": [
      "### Creating symbols for registers"
     ]
    },
    {
     "cell_type": "code",
     "collapsed": false,
     "input": [
      "registers = (eax,ebx,ecx,edx,esi,edi,esp,ebp,eflags) = symbols('eax ebx ecx edx esi edi esp ebp eflags')\n",
      "print registers"
     ],
     "language": "python",
     "metadata": {},
     "outputs": [
      {
       "output_type": "stream",
       "stream": "stdout",
       "text": [
        "(eax, ebx, ecx, edx, esi, edi, esp, ebp, eflags)\n"
       ]
      }
     ],
     "prompt_number": 2
    },
    {
     "cell_type": "markdown",
     "metadata": {},
     "source": [
      "Notice that symbols will always equal themselves, but never another symbol"
     ]
    },
    {
     "cell_type": "code",
     "collapsed": false,
     "input": [
      "print eax == eax"
     ],
     "language": "python",
     "metadata": {},
     "outputs": [
      {
       "output_type": "stream",
       "stream": "stdout",
       "text": [
        "True\n"
       ]
      }
     ],
     "prompt_number": 3
    },
    {
     "cell_type": "code",
     "collapsed": false,
     "input": [
      "print eax == ebx"
     ],
     "language": "python",
     "metadata": {},
     "outputs": [
      {
       "output_type": "stream",
       "stream": "stdout",
       "text": [
        "False\n"
       ]
      }
     ],
     "prompt_number": 4
    },
    {
     "cell_type": "code",
     "collapsed": false,
     "input": [
      "print eax == symbols('eax')"
     ],
     "language": "python",
     "metadata": {},
     "outputs": [
      {
       "output_type": "stream",
       "stream": "stdout",
       "text": [
        "True\n"
       ]
      }
     ],
     "prompt_number": 5
    },
    {
     "cell_type": "markdown",
     "metadata": {},
     "source": [
      "### Arithmetic and Bit operations\n",
      "\n",
      "Running a arithmetic or bit operation with a symbolic operand returns a symbolic result instead of numerical."
     ]
    },
    {
     "cell_type": "code",
     "collapsed": false,
     "input": [
      "print eax + ebx"
     ],
     "language": "python",
     "metadata": {},
     "outputs": [
      {
       "output_type": "stream",
       "stream": "stdout",
       "text": [
        "(eax + ebx)\n"
       ]
      }
     ],
     "prompt_number": 6
    },
    {
     "cell_type": "code",
     "collapsed": false,
     "input": [
      "print eax & ebx"
     ],
     "language": "python",
     "metadata": {},
     "outputs": [
      {
       "output_type": "stream",
       "stream": "stdout",
       "text": [
        "(eax & ebx)\n"
       ]
      }
     ],
     "prompt_number": 7
    },
    {
     "cell_type": "markdown",
     "metadata": {},
     "source": [
      "Symath can also include numerical values in symbolic expressions"
     ]
    },
    {
     "cell_type": "code",
     "collapsed": false,
     "input": [
      "print eax + 4"
     ],
     "language": "python",
     "metadata": {},
     "outputs": [
      {
       "output_type": "stream",
       "stream": "stdout",
       "text": [
        "(eax + 4)\n"
       ]
      }
     ],
     "prompt_number": 8
    },
    {
     "cell_type": "code",
     "collapsed": false,
     "input": [
      "expression = eax + 0\n",
      "print expression"
     ],
     "language": "python",
     "metadata": {},
     "outputs": [
      {
       "output_type": "stream",
       "stream": "stdout",
       "text": [
        "(eax + 0)\n"
       ]
      }
     ],
     "prompt_number": 9
    },
    {
     "cell_type": "markdown",
     "metadata": {},
     "source": [
      "SyMath knows many _simplification_ rules, which can be applied by calling .simplify()"
     ]
    },
    {
     "cell_type": "code",
     "collapsed": false,
     "input": [
      "print expression.simplify()"
     ],
     "language": "python",
     "metadata": {},
     "outputs": [
      {
       "output_type": "stream",
       "stream": "stdout",
       "text": [
        "eax\n"
       ]
      }
     ],
     "prompt_number": 10
    },
    {
     "cell_type": "code",
     "collapsed": false,
     "input": [
      "print (ebx ^ ebx).simplify()"
     ],
     "language": "python",
     "metadata": {},
     "outputs": [
      {
       "output_type": "stream",
       "stream": "stdout",
       "text": [
        "0\n"
       ]
      }
     ],
     "prompt_number": 11
    },
    {
     "cell_type": "code",
     "collapsed": false,
     "input": [
      "print (eax & ecx & eax | ebx).simplify()"
     ],
     "language": "python",
     "metadata": {},
     "outputs": [
      {
       "output_type": "stream",
       "stream": "stdout",
       "text": [
        "(ebx | (eax & ecx))\n"
       ]
      }
     ],
     "prompt_number": 12
    },
    {
     "cell_type": "markdown",
     "metadata": {},
     "source": [
      "It's important to note that .simplify() may change the order of operands, or even change the operations _but only when it does not matter mathematically_ even if it does not simplify\n",
      "the expression"
     ]
    },
    {
     "cell_type": "code",
     "collapsed": false,
     "input": [
      "print (ecx & eax).simplify()"
     ],
     "language": "python",
     "metadata": {},
     "outputs": [
      {
       "output_type": "stream",
       "stream": "stdout",
       "text": [
        "(eax & ecx)\n"
       ]
      }
     ],
     "prompt_number": 13
    },
    {
     "cell_type": "code",
     "collapsed": false,
     "input": [
      "print (ecx - ebx).simplify()"
     ],
     "language": "python",
     "metadata": {},
     "outputs": [
      {
       "output_type": "stream",
       "stream": "stdout",
       "text": [
        "(ecx + (-1 * ebx))\n"
       ]
      }
     ],
     "prompt_number": 14
    },
    {
     "cell_type": "markdown",
     "metadata": {},
     "source": [
      "It does this so that it is easy to put an expression in canonical form which allows easy equality tests"
     ]
    },
    {
     "cell_type": "code",
     "collapsed": false,
     "input": [
      "print (ecx & eax) == (eax & ecx)"
     ],
     "language": "python",
     "metadata": {},
     "outputs": [
      {
       "output_type": "stream",
       "stream": "stdout",
       "text": [
        "False\n"
       ]
      }
     ],
     "prompt_number": 15
    },
    {
     "cell_type": "code",
     "collapsed": false,
     "input": [
      "print (ecx & eax).simplify() == (eax & ecx).simplify()"
     ],
     "language": "python",
     "metadata": {},
     "outputs": [
      {
       "output_type": "stream",
       "stream": "stdout",
       "text": [
        "True\n"
       ]
      }
     ],
     "prompt_number": 16
    },
    {
     "cell_type": "markdown",
     "metadata": {},
     "source": [
      "We can also replace parts of an expression that we know the value of"
     ]
    },
    {
     "cell_type": "code",
     "collapsed": false,
     "input": [
      "expression = ebx + ecx - (edx & (edi | esi))\n",
      "print expression"
     ],
     "language": "python",
     "metadata": {},
     "outputs": [
      {
       "output_type": "stream",
       "stream": "stdout",
       "text": [
        "((ebx + ecx) - (edx & (edi | esi)))\n"
       ]
      }
     ],
     "prompt_number": 17
    },
    {
     "cell_type": "code",
     "collapsed": false,
     "input": [
      "expression = expression.substitute({edx: 0})\n",
      "print expression"
     ],
     "language": "python",
     "metadata": {},
     "outputs": [
      {
       "output_type": "stream",
       "stream": "stdout",
       "text": [
        "((ebx + ecx) - (0 & (edi | esi)))\n"
       ]
      }
     ],
     "prompt_number": 18
    },
    {
     "cell_type": "code",
     "collapsed": false,
     "input": [
      "expression = expression.simplify()\n",
      "print expression"
     ],
     "language": "python",
     "metadata": {},
     "outputs": [
      {
       "output_type": "stream",
       "stream": "stdout",
       "text": [
        "(ebx + ecx)\n"
       ]
      }
     ],
     "prompt_number": 19
    },
    {
     "cell_type": "markdown",
     "metadata": {},
     "source": [
      "Symbols can also be used as functions inside an expression and this is how we will represent assembly instructions (you can automatically get symbolic representations of instructions from IDA using the seperate [Revtools package](http://github.com/bniemczyk/revtools)"
     ]
    },
    {
     "cell_type": "code",
     "collapsed": false,
     "input": [
      "MOV = symbols('MOV')\n",
      "print MOV(eax, ebx)"
     ],
     "language": "python",
     "metadata": {},
     "outputs": [
      {
       "output_type": "stream",
       "stream": "stdout",
       "text": [
        "MOV(eax,ebx)\n"
       ]
      }
     ],
     "prompt_number": 20
    },
    {
     "cell_type": "markdown",
     "metadata": {},
     "source": [
      "Executing Instructions\n",
      "----------------------\n",
      "\n",
      "### Representing machine state\n",
      "\n",
      "\n",
      "We need to represent the state of registers and the state of memory in a machine between execution of each instruction, before we decide how to do this though\n",
      "we should explore how we will *point* to specific addresses (that we do not know the actual address of).\n",
      "\n",
      "One way to do this is to initialize each register to some initial value, and then represent our memory references as:\n",
      "\n",
      "MEMORY(SIZE, _some calculation involving initial values_)\n"
     ]
    },
    {
     "cell_type": "code",
     "collapsed": false,
     "input": [
      "# machine_state can get large, so it's better to pretty print it\n",
      "import pprint\n",
      "pp = pprint.PrettyPrinter()\n",
      "\n",
      "MEMORY = symbols('MEMORY')\n",
      "\n",
      "def build_initial_machine_state():\n",
      "    return {\n",
      "                 esp: symbols('initial_esp'),\n",
      "                 ebp: symbols('initial_ebp'),\n",
      "                 eax: symbols('initial_eax'),\n",
      "                 ebx: symbols('initial_ebx'),\n",
      "                 ecx: symbols('initial_ecx'),\n",
      "                 edx: symbols('initial_edx'),\n",
      "                 edi: symbols('initial_edi'),\n",
      "                 esi: symbols('initial_esi')\n",
      "                 }\n",
      "\n",
      "machine_state = build_initial_machine_state()\n",
      "\n",
      "pp.pprint(machine_state)"
     ],
     "language": "python",
     "metadata": {},
     "outputs": [
      {
       "output_type": "stream",
       "stream": "stdout",
       "text": [
        "{ecx: initial_ecx,\n",
        " esi: initial_esi,\n",
        " ebx: initial_ebx,\n",
        " edi: initial_edi,\n",
        " edx: initial_edx,\n",
        " esp: initial_esp,\n",
        " ebp: initial_ebp,\n",
        " eax: initial_eax}\n"
       ]
      }
     ],
     "prompt_number": 21
    },
    {
     "cell_type": "markdown",
     "metadata": {},
     "source": [
      "As we discover (or reference) values in memory, we want to update our machine_state variable\n",
      "\n",
      "_push(edx)_\n",
      "\n",
      "should modify the value of esp and also add a new MEMORY value.  Manually this would be done as the code below shows."
     ]
    },
    {
     "cell_type": "code",
     "collapsed": false,
     "input": [
      "# update the value of esp\n",
      "machine_state[esp] = (machine_state[esp] - 4).simplify()\n",
      "\n",
      "# set the location in memory pointed to by the new value of esp\n",
      "machine_state[MEMORY(4, machine_state[esp])] = machine_state[edi]\n",
      "\n",
      "# print the machine state\n",
      "pp.pprint(machine_state)"
     ],
     "language": "python",
     "metadata": {},
     "outputs": [
      {
       "output_type": "stream",
       "stream": "stdout",
       "text": [
        "{ecx: initial_ecx,\n",
        " esi: initial_esi,\n",
        " ebx: initial_ebx,\n",
        " edi: initial_edi,\n",
        " edx: initial_edx,\n",
        " esp: (-4 + initial_esp),\n",
        " ebp: initial_ebp,\n",
        " MEMORY(4,(-4 + initial_esp)): initial_edi,\n",
        " eax: initial_eax}\n"
       ]
      }
     ],
     "prompt_number": 22
    },
    {
     "cell_type": "markdown",
     "metadata": {},
     "source": [
      "### Pattern Matching\n",
      "\n",
      "Obviously we don't want to execute instructions manually as above but instead write code that can execute any instruction given a machine state automatically.  This is much easier to do with a concept called _pattern matching_.\n",
      "\n",
      "Pattern matching allows you to determine if a symbolic expression matches a pattern an (optionally) extract values from it, similar to using a regular expression on text.  To include *wildcards* you need to create an instance of a wild with the wilds() function and to capture the values of wilds you need to use the WildResults class.  It is easiest to show with some examples."
     ]
    },
    {
     "cell_type": "code",
     "collapsed": false,
     "input": [
      "a,b = wilds(\"a b\") # used as wildcard placeholders, these will match any subexpression\n",
      "results = WildResults() # used to store the subexpression results of pattern matches\n",
      "\n",
      "expression = MOV(eax, ebx)\n",
      "print expression"
     ],
     "language": "python",
     "metadata": {},
     "outputs": [
      {
       "output_type": "stream",
       "stream": "stdout",
       "text": [
        "MOV(eax,ebx)\n"
       ]
      }
     ],
     "prompt_number": 29
    },
    {
     "cell_type": "code",
     "collapsed": false,
     "input": [
      "print expression.match(MOV(eax, ebx)) # it will match because they are exactly the same"
     ],
     "language": "python",
     "metadata": {},
     "outputs": [
      {
       "output_type": "stream",
       "stream": "stdout",
       "text": [
        "True\n"
       ]
      }
     ],
     "prompt_number": 30
    },
    {
     "cell_type": "code",
     "collapsed": false,
     "input": [
      "print expression.match(MOV(eax, ecx)) # will not match because they differ"
     ],
     "language": "python",
     "metadata": {},
     "outputs": [
      {
       "output_type": "stream",
       "stream": "stdout",
       "text": [
        "False\n"
       ]
      }
     ],
     "prompt_number": 31
    },
    {
     "cell_type": "code",
     "collapsed": false,
     "input": [
      "print expression.match(MOV(eax, a)) # will match because a is a wild and will match any subexpression"
     ],
     "language": "python",
     "metadata": {},
     "outputs": [
      {
       "output_type": "stream",
       "stream": "stdout",
       "text": [
        "True\n"
       ]
      }
     ],
     "prompt_number": 32
    },
    {
     "cell_type": "code",
     "collapsed": false,
     "input": [
      "expression.match(MOV(eax, a), results) # results now holds the values matched by wilds\n",
      "print results"
     ],
     "language": "python",
     "metadata": {},
     "outputs": [
      {
       "output_type": "stream",
       "stream": "stdout",
       "text": [
        "{'a': ebx}\n"
       ]
      }
     ],
     "prompt_number": 33
    },
    {
     "cell_type": "code",
     "collapsed": false,
     "input": [
      "print results.a # you can also access the values of wilds from results with the dot notation"
     ],
     "language": "python",
     "metadata": {},
     "outputs": [
      {
       "output_type": "stream",
       "stream": "stdout",
       "text": [
        "ebx\n"
       ]
      }
     ],
     "prompt_number": 35
    },
    {
     "cell_type": "markdown",
     "metadata": {},
     "source": [
      "### Executing a single instruction\n",
      "\n",
      "With pattern matching in hand, it's pretty easy now to write a funcion that takes a symbolic instruction and a machine state, then returns a new machine state"
     ]
    },
    {
     "cell_type": "code",
     "collapsed": false,
     "input": [
      "from copy import copy\n",
      "\n",
      "instructions = (MOV, ADD, SUB) = symbols('MOV ADD SUB')\n",
      "\n",
      "def execute_sym_instruction(instruction, machine_state=None):\n",
      "    \n",
      "    # if now machine state was passed, start with a clean one\n",
      "    if machine_state == None:\n",
      "        machine_state = build_initial_machine_state()\n",
      "    \n",
      "    # otherwise make a copy\n",
      "    else:\n",
      "        machine_state = copy(machine_state)\n",
      "        \n",
      "    # src and dst operands are extracted during instruction matching\n",
      "    src,dst,opsize = wilds('src dst opsize')\n",
      "    operands = WildResults()\n",
      "    \n",
      "    if instruction.match(MOV(dst, src), operands):\n",
      "        machine_state[operands.dst] = machine_state[operands.src]\n",
      "        \n",
      "    elif instruction.match(ADD(dst, src), operands):\n",
      "        machine_state[operands.dst] = (machine_state[operands.dst] + machine_state[operands.src]).simplify()\n",
      "        machine_state[eflags] = machine_state[operands.dst]\n",
      "        \n",
      "    elif instruction.match(SUB(dst, src), operands):\n",
      "        machine_state[operands.dst] = (machine_state[operands.dst] - machine_state[operands.src]).simplify()\n",
      "        machine_state[eflags] = machine_state[operands.dst]\n",
      "    \n",
      "    # TODO: add the rest of the x86 instructions\n",
      "        \n",
      "    else:\n",
      "        raise Exception(\"Unknown instruction passed: %s\" % (instruction,))\n",
      "        \n",
      "    return machine_state"
     ],
     "language": "python",
     "metadata": {},
     "outputs": [],
     "prompt_number": 53
    },
    {
     "cell_type": "code",
     "collapsed": false,
     "input": [
      "# a quick example\n",
      "execute_sym_instruction(SUB(eax, ebx))"
     ],
     "language": "python",
     "metadata": {},
     "outputs": [
      {
       "output_type": "pyout",
       "prompt_number": 52,
       "text": [
        "{ecx: initial_ecx,\n",
        " esi: initial_esi,\n",
        " ebx: initial_ebx,\n",
        " edi: initial_edi,\n",
        " edx: initial_edx,\n",
        " eflags: (initial_eax + (-1 * initial_ebx)),\n",
        " esp: initial_esp,\n",
        " ebp: initial_ebp,\n",
        " eax: (initial_eax + (-1 * initial_ebx))}"
       ]
      }
     ],
     "prompt_number": 52
    },
    {
     "cell_type": "markdown",
     "metadata": {},
     "source": [
      "### Building a flexible instruction handling class\n",
      "\n",
      "The above scheme (lots of hard-coded if tests) works, but is not ideal.  We would really like to be able to dynamically add handlers for different patterns, so that's it is easy to customize\n",
      "at runtime.  This makes it so that you can set the effects of specific function calls etc... without having to execute the full function.\n",
      "\n",
      "Doing it this way will also allow us to specialize instructions later when we do things like add support for the smaller registers (ax,al,ah,etc...)"
     ]
    },
    {
     "cell_type": "code",
     "collapsed": false,
     "input": [
      "from collections import deque\n",
      "\n",
      "class IExecuter(object):\n",
      "    \n",
      "    def __init__(self):\n",
      "        self._handlers = deque()\n",
      "        \n",
      "    def add_handler(self, pattern, handler):\n",
      "        '''\n",
      "        Adds a handler\n",
      "\n",
      "        params:\n",
      "            pattern - the pattern (or lambda that takes a WildResults and returns a boolean) this handles, the last register handler that matches will be what is called\n",
      "            handler - a function that takes arguments (machine_state, operands)\n",
      "        '''\n",
      "        \n",
      "        self._handlers.pushfront((pattern, handler))\n",
      "        \n",
      "    def execute(self, instruction, machine_state=None):\n",
      "        \n",
      "        # make sure our handlers do not clobber each other\n",
      "        if machine_state == None:\n",
      "            machine_state = build_initial_machine_state()\n",
      "        else:\n",
      "            machine_state = copy(machine_state)\n",
      "            \n",
      "        operands = WildResults()\n",
      "            \n",
      "        # loop through handlers and execute the first one that matches\n",
      "        for h in self._handlers:\n",
      "            \n",
      "            tester = h[0]\n",
      "            if type(tester) == type(lambda x: x):\n",
      "                handles = tester(operands)\n",
      "            else:\n",
      "                handles = tester.match(instruction, operands)\n",
      "                \n",
      "            if handles:\n",
      "                return h[1](machine_state, operands)\n",
      "            \n",
      "        # no handler was found, so abort\n",
      "        raise Exception(\"No handler found for %s\" % (instruction,))"
     ],
     "language": "python",
     "metadata": {},
     "outputs": [],
     "prompt_number": 61
    }
   ],
   "metadata": {}
  }
 ]
}