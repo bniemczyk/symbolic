{
 "metadata": {
  "name": "Assembly Symolic Execution Tutorial"
 },
 "nbformat": 3,
 "nbformat_minor": 0,
 "worksheets": [
  {
   "cells": [
    {
     "cell_type": "markdown",
     "metadata": {},
     "source": [
      "Using SyMath for symbolic execution of assembly languages\n",
      "=========================================================\n",
      "\n",
      "At it's core, symath allows a programming paradigm called _symbolic programming_.\n",
      "Even though symbolic programming is often associated with mathematical programming, this\n",
      "is not always the case.  This tutorial will walk you through using symath to treat x86 assembly\n",
      "language as symbolic data and 'execute' it without hard values."
     ]
    },
    {
     "cell_type": "markdown",
     "metadata": {},
     "source": [
      "Initialization of SyMath\n",
      "------------------------"
     ]
    },
    {
     "cell_type": "code",
     "collapsed": false,
     "input": [
      "from symath import symbols, wilds, WildResults"
     ],
     "language": "python",
     "metadata": {},
     "outputs": [],
     "prompt_number": 1
    },
    {
     "cell_type": "markdown",
     "metadata": {},
     "source": [
      "Registers and Expressions involving them\n",
      "----------------------------------------"
     ]
    },
    {
     "cell_type": "markdown",
     "metadata": {},
     "source": [
      "### Creating symbols for registers"
     ]
    },
    {
     "cell_type": "code",
     "collapsed": false,
     "input": [
      "registers = (eax,ebx,ecx,edx,esi,edi,esp,ebp,eflags) = symbols('eax ebx ecx edx esi edi esp ebp eflags')\n",
      "registers"
     ],
     "language": "python",
     "metadata": {},
     "outputs": [
      {
       "output_type": "pyout",
       "prompt_number": 2,
       "text": [
        "(eax, ebx, ecx, edx, esi, edi, esp, ebp, eflags)"
       ]
      }
     ],
     "prompt_number": 2
    },
    {
     "cell_type": "markdown",
     "metadata": {},
     "source": [
      "Notice that symbols will always equal themselves, but never another symbol"
     ]
    },
    {
     "cell_type": "code",
     "collapsed": false,
     "input": [
      "eax == eax"
     ],
     "language": "python",
     "metadata": {},
     "outputs": [
      {
       "output_type": "pyout",
       "prompt_number": 3,
       "text": [
        "True"
       ]
      }
     ],
     "prompt_number": 3
    },
    {
     "cell_type": "code",
     "collapsed": false,
     "input": [
      "eax == ebx"
     ],
     "language": "python",
     "metadata": {},
     "outputs": [
      {
       "output_type": "pyout",
       "prompt_number": 4,
       "text": [
        "False"
       ]
      }
     ],
     "prompt_number": 4
    },
    {
     "cell_type": "code",
     "collapsed": false,
     "input": [
      "eax == symbols('eax')"
     ],
     "language": "python",
     "metadata": {},
     "outputs": [
      {
       "output_type": "pyout",
       "prompt_number": 5,
       "text": [
        "True"
       ]
      }
     ],
     "prompt_number": 5
    },
    {
     "cell_type": "markdown",
     "metadata": {},
     "source": [
      "### Arithmetic and Bit operations\n",
      "\n",
      "Running a arithmetic or bit operation with a symbolic operand returns a symbolic result instead of numerical."
     ]
    },
    {
     "cell_type": "code",
     "collapsed": false,
     "input": [
      "eax + ebx"
     ],
     "language": "python",
     "metadata": {},
     "outputs": [
      {
       "output_type": "pyout",
       "prompt_number": 6,
       "text": [
        "(eax + ebx)"
       ]
      }
     ],
     "prompt_number": 6
    },
    {
     "cell_type": "code",
     "collapsed": false,
     "input": [
      "eax & ebx"
     ],
     "language": "python",
     "metadata": {},
     "outputs": [
      {
       "output_type": "pyout",
       "prompt_number": 7,
       "text": [
        "(eax & ebx)"
       ]
      }
     ],
     "prompt_number": 7
    },
    {
     "cell_type": "markdown",
     "metadata": {},
     "source": [
      "Symath can also include numerical values in symbolic expressions"
     ]
    },
    {
     "cell_type": "code",
     "collapsed": false,
     "input": [
      "eax + 4"
     ],
     "language": "python",
     "metadata": {},
     "outputs": [
      {
       "output_type": "pyout",
       "prompt_number": 8,
       "text": [
        "(eax + 4)"
       ]
      }
     ],
     "prompt_number": 8
    },
    {
     "cell_type": "code",
     "collapsed": false,
     "input": [
      "expression = eax + 0\n",
      "expression"
     ],
     "language": "python",
     "metadata": {},
     "outputs": [
      {
       "output_type": "pyout",
       "prompt_number": 9,
       "text": [
        "(eax + 0)"
       ]
      }
     ],
     "prompt_number": 9
    },
    {
     "cell_type": "markdown",
     "metadata": {},
     "source": [
      "SyMath knows many _simplification_ rules, which can be applied by calling .simplify()"
     ]
    },
    {
     "cell_type": "code",
     "collapsed": false,
     "input": [
      "expression.simplify()"
     ],
     "language": "python",
     "metadata": {},
     "outputs": [
      {
       "output_type": "pyout",
       "prompt_number": 10,
       "text": [
        "eax"
       ]
      }
     ],
     "prompt_number": 10
    },
    {
     "cell_type": "code",
     "collapsed": false,
     "input": [
      "(ebx ^ ebx).simplify()"
     ],
     "language": "python",
     "metadata": {},
     "outputs": [
      {
       "output_type": "pyout",
       "prompt_number": 11,
       "text": [
        "0"
       ]
      }
     ],
     "prompt_number": 11
    },
    {
     "cell_type": "code",
     "collapsed": false,
     "input": [
      "(eax & ecx & eax | ebx).simplify()"
     ],
     "language": "python",
     "metadata": {},
     "outputs": [
      {
       "output_type": "pyout",
       "prompt_number": 12,
       "text": [
        "(ebx | (eax & ecx))"
       ]
      }
     ],
     "prompt_number": 12
    },
    {
     "cell_type": "markdown",
     "metadata": {},
     "source": [
      "It's important to note that .simplify() may change the order of operands, or even change the operations _but only when it does not matter mathematically_ even if it does not simplify\n",
      "the expression"
     ]
    },
    {
     "cell_type": "code",
     "collapsed": false,
     "input": [
      "(ecx & eax).simplify()"
     ],
     "language": "python",
     "metadata": {},
     "outputs": [
      {
       "output_type": "pyout",
       "prompt_number": 13,
       "text": [
        "(eax & ecx)"
       ]
      }
     ],
     "prompt_number": 13
    },
    {
     "cell_type": "code",
     "collapsed": false,
     "input": [
      "(ecx - ebx).simplify()"
     ],
     "language": "python",
     "metadata": {},
     "outputs": [
      {
       "output_type": "pyout",
       "prompt_number": 14,
       "text": [
        "(ecx + (-1 * ebx))"
       ]
      }
     ],
     "prompt_number": 14
    },
    {
     "cell_type": "markdown",
     "metadata": {},
     "source": [
      "It does this so that it is easy to put an expression in canonical form which allows easy equality tests"
     ]
    },
    {
     "cell_type": "code",
     "collapsed": false,
     "input": [
      "(ecx & eax) == (eax & ecx)"
     ],
     "language": "python",
     "metadata": {},
     "outputs": [
      {
       "output_type": "pyout",
       "prompt_number": 15,
       "text": [
        "False"
       ]
      }
     ],
     "prompt_number": 15
    },
    {
     "cell_type": "code",
     "collapsed": false,
     "input": [
      "(ecx & eax).simplify() == (eax & ecx).simplify()"
     ],
     "language": "python",
     "metadata": {},
     "outputs": [
      {
       "output_type": "pyout",
       "prompt_number": 16,
       "text": [
        "True"
       ]
      }
     ],
     "prompt_number": 16
    },
    {
     "cell_type": "markdown",
     "metadata": {},
     "source": [
      "We can also replace parts of an expression that we know the value of"
     ]
    },
    {
     "cell_type": "code",
     "collapsed": false,
     "input": [
      "expression = ebx + ecx - (edx & (edi | esi))\n",
      "expression"
     ],
     "language": "python",
     "metadata": {},
     "outputs": [
      {
       "output_type": "pyout",
       "prompt_number": 17,
       "text": [
        "((ebx + ecx) - (edx & (edi | esi)))"
       ]
      }
     ],
     "prompt_number": 17
    },
    {
     "cell_type": "code",
     "collapsed": false,
     "input": [
      "expression = expression.substitute({edx: 0})\n",
      "expression"
     ],
     "language": "python",
     "metadata": {},
     "outputs": [
      {
       "output_type": "pyout",
       "prompt_number": 18,
       "text": [
        "((ebx + ecx) - (0 & (edi | esi)))"
       ]
      }
     ],
     "prompt_number": 18
    },
    {
     "cell_type": "code",
     "collapsed": false,
     "input": [
      "expression = expression.simplify()\n",
      "expression"
     ],
     "language": "python",
     "metadata": {},
     "outputs": [
      {
       "output_type": "pyout",
       "prompt_number": 19,
       "text": [
        "(ebx + ecx)"
       ]
      }
     ],
     "prompt_number": 19
    },
    {
     "cell_type": "markdown",
     "metadata": {},
     "source": [
      "Symbols can also be used as functions inside an expression and this is how we will represent assembly instructions (you can automatically get symbolic representations of instructions from IDA using the seperate [Revtools package](http://github.com/bniemczyk/revtools)"
     ]
    },
    {
     "cell_type": "code",
     "collapsed": false,
     "input": [
      "MOV = symbols('MOV')\n",
      "MOV(eax, ebx)"
     ],
     "language": "python",
     "metadata": {},
     "outputs": [
      {
       "output_type": "pyout",
       "prompt_number": 20,
       "text": [
        "MOV(eax,ebx)"
       ]
      }
     ],
     "prompt_number": 20
    },
    {
     "cell_type": "markdown",
     "metadata": {},
     "source": [
      "### TODO: Indexing expressions"
     ]
    },
    {
     "cell_type": "markdown",
     "metadata": {},
     "source": [
      "Executing Instructions (Non Control Flow)\n",
      "-----------------------------------------\n",
      "\n",
      "### Representing machine state\n",
      "\n",
      "\n",
      "We need to represent the state of registers and the state of memory in a machine between execution of each instruction, before we decide how to do this though\n",
      "we should explore how we will *point* to specific addresses (that we do not know the actual address of).\n",
      "\n",
      "One way to do this is to initialize each register to some initial value, and then represent our memory references as:\n",
      "\n",
      "MEMORY(SIZE, _some calculation involving initial values_)\n"
     ]
    },
    {
     "cell_type": "code",
     "collapsed": false,
     "input": [
      "MEMORY = symbols('MEMORY')\n",
      "\n",
      "def build_initial_machine_state():\n",
      "    return {\n",
      "                 esp: symbols('initial_esp'),\n",
      "                 ebp: symbols('initial_ebp'),\n",
      "                 eax: symbols('initial_eax'),\n",
      "                 ebx: symbols('initial_ebx'),\n",
      "                 ecx: symbols('initial_ecx'),\n",
      "                 edx: symbols('initial_edx'),\n",
      "                 edi: symbols('initial_edi'),\n",
      "                 esi: symbols('initial_esi')\n",
      "                 }\n",
      "\n",
      "machine_state = build_initial_machine_state()\n",
      "\n",
      "machine_state"
     ],
     "language": "python",
     "metadata": {},
     "outputs": [
      {
       "output_type": "pyout",
       "prompt_number": 21,
       "text": [
        "{ecx: initial_ecx,\n",
        " esi: initial_esi,\n",
        " ebx: initial_ebx,\n",
        " edi: initial_edi,\n",
        " edx: initial_edx,\n",
        " esp: initial_esp,\n",
        " ebp: initial_ebp,\n",
        " eax: initial_eax}"
       ]
      }
     ],
     "prompt_number": 21
    },
    {
     "cell_type": "markdown",
     "metadata": {},
     "source": [
      "As we discover (or reference) values in memory, we want to update our machine_state variable\n",
      "\n",
      "_push(edx)_\n",
      "\n",
      "should modify the value of esp and also add a new MEMORY value.  Manually this would be done as the code below shows."
     ]
    },
    {
     "cell_type": "code",
     "collapsed": false,
     "input": [
      "# update the value of esp\n",
      "machine_state[esp] = (machine_state[esp] - 4).simplify()\n",
      "\n",
      "# set the location in memory pointed to by the new value of esp\n",
      "machine_state[MEMORY(4, machine_state[esp])] = machine_state[edi]\n",
      "\n",
      "# print the machine state\n",
      "machine_state"
     ],
     "language": "python",
     "metadata": {},
     "outputs": [
      {
       "output_type": "pyout",
       "prompt_number": 22,
       "text": [
        "{ecx: initial_ecx,\n",
        " esi: initial_esi,\n",
        " ebx: initial_ebx,\n",
        " edi: initial_edi,\n",
        " edx: initial_edx,\n",
        " esp: (-4 + initial_esp),\n",
        " ebp: initial_ebp,\n",
        " MEMORY(4,(-4 + initial_esp)): initial_edi,\n",
        " eax: initial_eax}"
       ]
      }
     ],
     "prompt_number": 22
    },
    {
     "cell_type": "markdown",
     "metadata": {},
     "source": [
      "### Pattern Matching\n",
      "\n",
      "Obviously we don't want to execute instructions manually as above but instead write code that can execute any instruction given a machine state automatically.  This is much easier to do with a concept called _pattern matching_.\n",
      "\n",
      "Pattern matching allows you to determine if a symbolic expression matches a pattern an (optionally) extract values from it, similar to using a regular expression on text.  To include *wildcards* you need to create an instance of a wild with the wilds() function and to capture the values of wilds you need to use the WildResults class.  It is easiest to show with some examples."
     ]
    },
    {
     "cell_type": "code",
     "collapsed": false,
     "input": [
      "a,b = wilds(\"a b\") # used as wildcard placeholders, these will match any subexpression\n",
      "results = WildResults() # used to store the subexpression results of pattern matches\n",
      "\n",
      "expression = MOV(eax, ebx)\n",
      "print expression"
     ],
     "language": "python",
     "metadata": {},
     "outputs": [
      {
       "output_type": "stream",
       "stream": "stdout",
       "text": [
        "MOV(eax,ebx)\n"
       ]
      }
     ],
     "prompt_number": 23
    },
    {
     "cell_type": "code",
     "collapsed": false,
     "input": [
      "print expression.match(MOV(eax, ebx)) # it will match because they are exactly the same"
     ],
     "language": "python",
     "metadata": {},
     "outputs": [
      {
       "output_type": "stream",
       "stream": "stdout",
       "text": [
        "True\n"
       ]
      }
     ],
     "prompt_number": 24
    },
    {
     "cell_type": "code",
     "collapsed": false,
     "input": [
      "print expression.match(MOV(eax, ecx)) # will not match because they differ"
     ],
     "language": "python",
     "metadata": {},
     "outputs": [
      {
       "output_type": "stream",
       "stream": "stdout",
       "text": [
        "False\n"
       ]
      }
     ],
     "prompt_number": 25
    },
    {
     "cell_type": "code",
     "collapsed": false,
     "input": [
      "print expression.match(MOV(eax, a)) # will match because a is a wild and will match any subexpression"
     ],
     "language": "python",
     "metadata": {},
     "outputs": [
      {
       "output_type": "stream",
       "stream": "stdout",
       "text": [
        "True\n"
       ]
      }
     ],
     "prompt_number": 26
    },
    {
     "cell_type": "code",
     "collapsed": false,
     "input": [
      "expression.match(MOV(eax, a), results) # results now holds the values matched by wilds\n",
      "print results"
     ],
     "language": "python",
     "metadata": {},
     "outputs": [
      {
       "output_type": "stream",
       "stream": "stdout",
       "text": [
        "{'a': ebx}\n"
       ]
      }
     ],
     "prompt_number": 27
    },
    {
     "cell_type": "code",
     "collapsed": false,
     "input": [
      "print results.a # you can also access the values of wilds from results with the dot notation"
     ],
     "language": "python",
     "metadata": {},
     "outputs": [
      {
       "output_type": "stream",
       "stream": "stdout",
       "text": [
        "ebx\n"
       ]
      }
     ],
     "prompt_number": 28
    },
    {
     "cell_type": "markdown",
     "metadata": {},
     "source": [
      "### Executing a single instruction\n",
      "\n",
      "With pattern matching in hand, it's pretty easy now to write a funcion that takes a symbolic instruction and a machine state, then returns a new machine state.\n",
      "\n",
      "The only real trick is if one of the operands is a MEMORY expression, we need to make sure we replace anything in it with the values that we have in machine_state"
     ]
    },
    {
     "cell_type": "code",
     "collapsed": false,
     "input": [
      "from copy import copy\n",
      "\n",
      "instructions = (MOV, ADD, SUB, XOR) = symbols('MOV ADD SUB XOR')\n",
      "\n",
      "def execute_sym_instruction(instruction, machine_state=None):\n",
      "    \n",
      "    # if now machine state was passed, start with a clean one\n",
      "    if machine_state == None:\n",
      "        machine_state = build_initial_machine_state()\n",
      "    \n",
      "    # otherwise make a copy\n",
      "    else:\n",
      "        machine_state = copy(machine_state)\n",
      "        \n",
      "    # src and dst operands are extracted during instruction matching\n",
      "    src,dst,opsize,randominst = wilds('src dst opsize randominst')\n",
      "    operands = WildResults()\n",
      "    \n",
      "    # resolve MEMORY() expressions\n",
      "    if instruction.match(randominst(MEMORY(opsize, dst), src), operands):\n",
      "        instruction = operands.randominst(MEMORY(operands.opsize, operands.dst.substitute(machine_state)), operands.src)\n",
      "    \n",
      "    if instruction.match(randominst(dst, MEMORY(opsize, src)), operands):\n",
      "        instruction = operands.randominst(operands.dst, MEMORY(operands.opsize, operands.src.substitute(machine_state)))\n",
      "    \n",
      "    # do pattern matching and execute correct logic\n",
      "    if instruction.match(MOV(dst, src), operands):\n",
      "        _s = machine_state[operands.src] if operands.src in machine_state else operands.src\n",
      "        machine_state[operands.dst] = _s\n",
      "        \n",
      "    elif instruction.match(ADD(dst, src), operands):\n",
      "        _s = machine_state[operands.src] if operands.src in machine_state else operands.src\n",
      "        _d = machine_state[operands.dst] if operands.dst in machine_state else operands.dst\n",
      "        machine_state[operands.dst] = (_d + _s).simplify()\n",
      "        machine_state[eflags] = machine_state[operands.dst]\n",
      "        \n",
      "    elif instruction.match(SUB(dst, src), operands):\n",
      "        _s = machine_state[operands.src] if operands.src in machine_state else operands.src\n",
      "        _d = machine_state[operands.dst] if operands.dst in machine_state else operands.dst\n",
      "        machine_state[operands.dst] = (_d - _s).simplify()\n",
      "        machine_state[eflags] = machine_state[operands.dst]\n",
      "        \n",
      "    elif instruction.match(XOR(dst, src), operands):\n",
      "        _s = machine_state[operands.src] if operands.src in machine_state else operands.src\n",
      "        _d = machine_state[operands.dst] if operands.dst in machine_state else operands.dst\n",
      "        machine_state[operands.dst] = (_d ^ _s).simplify()\n",
      "        machine_state[eflags] = machine_state[operands.dst]\n",
      "    \n",
      "    # TODO: add the rest of the x86 instructions, of course we won't do this because we have a better\n",
      "    # scheme later\n",
      "        \n",
      "    else:\n",
      "        raise Exception(\"Unknown instruction passed: %s\" % (instruction,))\n",
      "        \n",
      "    return machine_state"
     ],
     "language": "python",
     "metadata": {},
     "outputs": [],
     "prompt_number": 29
    },
    {
     "cell_type": "code",
     "collapsed": false,
     "input": [
      "# a quick example\n",
      "execute_sym_instruction(SUB(eax, ebx))"
     ],
     "language": "python",
     "metadata": {},
     "outputs": [
      {
       "output_type": "pyout",
       "prompt_number": 30,
       "text": [
        "{ecx: initial_ecx,\n",
        " esi: initial_esi,\n",
        " ebx: initial_ebx,\n",
        " edi: initial_edi,\n",
        " edx: initial_edx,\n",
        " eflags: (initial_eax + (-1 * initial_ebx)),\n",
        " esp: initial_esp,\n",
        " ebp: initial_ebp,\n",
        " eax: (initial_eax + (-1 * initial_ebx))}"
       ]
      }
     ],
     "prompt_number": 30
    },
    {
     "cell_type": "markdown",
     "metadata": {},
     "source": [
      "### Executing a sequence of instructions\n",
      "\n",
      "Executing a list of instructions is as simple as executing each instruction one by one and keeping the modifications to the machine state"
     ]
    },
    {
     "cell_type": "code",
     "collapsed": false,
     "input": [
      "def execute_sym_instruction_list(insts, machine_state=None):\n",
      "    \n",
      "    for inst in insts:\n",
      "        machine_state = execute_sym_instruction(inst, machine_state)\n",
      "        \n",
      "    return machine_state"
     ],
     "language": "python",
     "metadata": {},
     "outputs": [],
     "prompt_number": 31
    },
    {
     "cell_type": "code",
     "collapsed": false,
     "input": [
      "XOR,MOV = symbols('XOR MOV')\n",
      "_sample_insts = [\n",
      "                 XOR(eax, eax),\n",
      "                 ADD(ecx, 0x4),\n",
      "                 MOV(MEMORY(0x4, ecx), eax),\n",
      "                 MOV(ebx, MEMORY(4, ecx))\n",
      "                 ]\n",
      "\n",
      "_state = execute_sym_instruction_list(_sample_insts)\n",
      "_state"
     ],
     "language": "python",
     "metadata": {},
     "outputs": [
      {
       "output_type": "pyout",
       "prompt_number": 32,
       "text": [
        "{ecx: (4 + initial_ecx),\n",
        " esi: initial_esi,\n",
        " ebx: 0,\n",
        " edx: initial_edx,\n",
        " eflags: (4 + initial_ecx),\n",
        " MEMORY(4,(4 + initial_ecx)): 0,\n",
        " ebp: initial_ebp,\n",
        " eax: 0,\n",
        " edi: initial_edi,\n",
        " esp: initial_esp}"
       ]
      }
     ],
     "prompt_number": 32
    },
    {
     "cell_type": "markdown",
     "metadata": {},
     "source": [
      "### Building a flexible instruction handling class\n",
      "\n",
      "The above scheme (lots of hard-coded if tests) works, but is not ideal.  We would really like to be able to dynamically add handlers for different patterns, so that's it is easy to customize\n",
      "at runtime.  This makes it so that you can set the effects of specific function calls etc... without having to execute the full function.\n",
      "\n",
      "Doing it this way will also allow us to specialize instructions later when we do things like add support for the smaller registers (ax,al,ah,etc...)"
     ]
    },
    {
     "cell_type": "code",
     "collapsed": false,
     "input": [
      "from collections import deque\n",
      "\n",
      "class IExecuter(object):\n",
      "    \n",
      "    def __init__(self):\n",
      "        self._handlers = deque()\n",
      "        \n",
      "    def add_handler(self, pattern, handler):\n",
      "        '''\n",
      "        Adds a handler\n",
      "\n",
      "        params:\n",
      "            pattern - the pattern (or lambda that takes a WildResults and returns a boolean) this handles, the last register handler that matches will be what is called\n",
      "            handler - a function that takes arguments (instruction, operands [to be populated])\n",
      "        '''\n",
      "        \n",
      "        self._handlers.appendleft((pattern, handler))\n",
      "        \n",
      "    def execute_single_instruction(self, instruction, machine_state=None):\n",
      "        \n",
      "        # make sure our handlers do not clobber each other\n",
      "        if machine_state == None:\n",
      "            machine_state = build_initial_machine_state()\n",
      "        else:\n",
      "            machine_state = copy(machine_state)\n",
      "            \n",
      "        operands = WildResults()\n",
      "            \n",
      "        # loop through handlers and execute the first one that matches\n",
      "        for h in self._handlers:\n",
      "            \n",
      "            tester = h[0]\n",
      "            handles = False\n",
      "            \n",
      "            if type(tester) == type(lambda x: x):\n",
      "                handles = tester(instruction, operands)\n",
      "            else:\n",
      "                handles = instruction.match(tester, operands)\n",
      "                \n",
      "            if handles:\n",
      "                return h[1](machine_state, operands)\n",
      "            \n",
      "        # no handler was found, so abort\n",
      "        raise Exception(\"No handler found for %s\" % (instruction,))\n",
      "        \n",
      "    def execute_instruction_list(self, insts, machine_state=None):\n",
      "        for inst in insts:\n",
      "            machine_state = self.execute_single_instruction(inst, machine_state)\n",
      "        \n",
      "        return machine_state"
     ],
     "language": "python",
     "metadata": {},
     "outputs": [],
     "prompt_number": 33
    },
    {
     "cell_type": "markdown",
     "metadata": {},
     "source": [
      "#### MOV handler\n",
      "TODO: description"
     ]
    },
    {
     "cell_type": "code",
     "collapsed": false,
     "input": [
      "MOV = symbols('MOV')\n",
      "\n",
      "def add_x86_32bit_mov_handler(iexecuter):\n",
      "    src,dst = wilds('src dst')\n",
      "    handler_ptrn = MOV(dst, src)\n",
      "    \n",
      "    def _handler(machine_state, operands):\n",
      "        w,n = wilds(\"w n\")\n",
      "        for k in operands:\n",
      "            if operands[k].match(MEMORY(n, w)):\n",
      "                operands[k] = MEMORY(operands[k][1], operands[k][2].substitute(machine_state))\n",
      "                \n",
      "        _s = machine_state[operands.src] if operands.src in machine_state else operands.src\n",
      "        machine_state[operands.dst] = _s\n",
      "        return machine_state\n",
      "        \n",
      "    iexecuter.add_handler(handler_ptrn, _handler)"
     ],
     "language": "python",
     "metadata": {},
     "outputs": [],
     "prompt_number": 34
    },
    {
     "cell_type": "markdown",
     "metadata": {},
     "source": [
      "#### LEA handler\n",
      "TODO: description"
     ]
    },
    {
     "cell_type": "code",
     "collapsed": false,
     "input": [
      "LEA = symbols('LEA')\n",
      "\n",
      "def add_x86_32bit_lea_handler(iexecuter):\n",
      "    src,dst = wilds('src dst')\n",
      "    handler_ptrn = lambda inst, operands: inst.match(LEA(dst, MEMORY(4, src)), operands) and operands.dst in registers\n",
      "    \n",
      "    def _handler(machine_state, operands):\n",
      "        _s = operands.src.substitute(machine_state).simplify()\n",
      "        machine_state[operands.dst] = _s\n",
      "        return machine_state\n",
      "    \n",
      "    iexecuter.add_handler(handler_ptrn, _handler)\n",
      "    "
     ],
     "language": "python",
     "metadata": {},
     "outputs": [],
     "prompt_number": 35
    },
    {
     "cell_type": "markdown",
     "metadata": {},
     "source": [
      "#### Two operand 32-bit arithmetic instruction handlers\n",
      "\n",
      "Many arithmetic instructions in the form of\n",
      "\n",
      "_INST dest, src_\n",
      "\n",
      "perform some arithmetic on it's operands and then update the destination and EFLAGS registers.  We can generalize this behaviour.  Right now we will only work with 32 bit registers because smaller registers require special handling due to the fact that they clobber parts of the larger registers."
     ]
    },
    {
     "cell_type": "code",
     "collapsed": false,
     "input": [
      "def add_x86_32bit_arithmetic_handlers(iexecuter):\n",
      "    \n",
      "    def build_handler(instruction, symoperator=None):\n",
      "        src,dst = wilds('src dst')\n",
      "        handler_ptrn = instruction(dst, src) # build the pattern to match\n",
      "        \n",
      "        def _handler(machine_state, operands): # our actual handler\n",
      "            \n",
      "            # update the operands MEMORY references\n",
      "            w,n = wilds('w n')\n",
      "            for k in operands:\n",
      "                if operands[k].match(MEMORY(n, w)):\n",
      "                    operands[k] = MEMORY(operands[k][1], operands[k][2].substitute(machine_state))\n",
      "            \n",
      "            # if we know the value of either operand, grab it\n",
      "            subbedops = WildResults()\n",
      "            subbedops['src'] = machine_state[operands.src] if operands.src in machine_state else operands.src\n",
      "            subbedops['dst'] = machine_state[operands.dst] if operands.dst in machine_state else operands.dst\n",
      "            \n",
      "            # run the provided function\n",
      "            rslt = symoperator(subbedops)\n",
      "            rslt = rslt.simplify()\n",
      "            \n",
      "            # update machine state and return\n",
      "            machine_state[operands.dst] = rslt\n",
      "            machine_state[eflags] = rslt\n",
      "            return machine_state\n",
      "            \n",
      "        return (handler_ptrn, _handler)\n",
      "    \n",
      "    iexecuter.add_handler(*build_handler(symbols('ADD'), lambda r: r.dst + r.src))\n",
      "    iexecuter.add_handler(*build_handler(symbols('SUB'), lambda r: r.dst - r.src))\n",
      "    iexecuter.add_handler(*build_handler(symbols('MUL'), lambda r: r.dst * r.src))\n",
      "    iexecuter.add_handler(*build_handler(symbols('IMUL'), lambda r: r.dst * r.src))\n",
      "    iexecuter.add_handler(*build_handler(symbols('DIV'), lambda r: r.dst / r.src))\n",
      "    iexecuter.add_handler(*build_handler(symbols('IDIV'), lambda r: r.dst / r.src))\n",
      "    iexecuter.add_handler(*build_handler(symbols('AND'), lambda r: r.dst & r.src))\n",
      "    iexecuter.add_handler(*build_handler(symbols('OR'), lambda r: r.dst | r.src))\n",
      "    iexecuter.add_handler(*build_handler(symbols('XOR'), lambda r: r.dst ^ r.src))"
     ],
     "language": "python",
     "metadata": {},
     "outputs": [],
     "prompt_number": 36
    },
    {
     "cell_type": "markdown",
     "metadata": {},
     "source": [
      "### Creating an IExecuter factory and Using it\n",
      "\n",
      "It's easy to wrap up our add_*_handler functions into a factory method so that we do not have\n",
      "to call them by hand repeatedly"
     ]
    },
    {
     "cell_type": "code",
     "collapsed": false,
     "input": [
      "def executer_x86_factory():\n",
      "    iexec = IExecuter()\n",
      "    add_x86_32bit_mov_handler(iexec)\n",
      "    add_x86_32bit_lea_handler(iexec)\n",
      "    add_x86_32bit_arithmetic_handlers(iexec)\n",
      "    return iexec"
     ],
     "language": "python",
     "metadata": {},
     "outputs": [],
     "prompt_number": 37
    },
    {
     "cell_type": "markdown",
     "metadata": {},
     "source": [
      "#### A quick test run of what we have so far"
     ]
    },
    {
     "cell_type": "code",
     "collapsed": false,
     "input": [
      "if _sample_insts[1][0] != LEA:\n",
      "    _sample_insts.insert(1, LEA(eax, MEMORY(4, eax + 42)))\n",
      "    \n",
      "_sample_insts"
     ],
     "language": "python",
     "metadata": {},
     "outputs": [
      {
       "output_type": "pyout",
       "prompt_number": 38,
       "text": [
        "[XOR(eax,eax),\n",
        " LEA(eax,MEMORY(4,(eax + 42))),\n",
        " ADD(ecx,4),\n",
        " MOV(MEMORY(4,ecx),eax),\n",
        " MOV(ebx,MEMORY(4,ecx))]"
       ]
      }
     ],
     "prompt_number": 38
    },
    {
     "cell_type": "code",
     "collapsed": false,
     "input": [
      "iexec = executer_x86_factory()\n",
      "iexec.execute_instruction_list(_sample_insts)"
     ],
     "language": "python",
     "metadata": {},
     "outputs": [
      {
       "output_type": "pyout",
       "prompt_number": 40,
       "text": [
        "{ecx: (4 + initial_ecx),\n",
        " esi: initial_esi,\n",
        " ebx: 42,\n",
        " edx: initial_edx,\n",
        " eflags: (4 + initial_ecx),\n",
        " MEMORY(4,(4 + initial_ecx)): 42,\n",
        " ebp: initial_ebp,\n",
        " eax: 42,\n",
        " edi: initial_edi,\n",
        " esp: initial_esp}"
       ]
      }
     ],
     "prompt_number": 40
    },
    {
     "cell_type": "markdown",
     "metadata": {},
     "source": [
      "Selecting Interesting instruction sequences to execute\n",
      "------------------------------------------------------\n",
      "\n",
      "TODO"
     ]
    }
   ],
   "metadata": {}
  }
 ]
}